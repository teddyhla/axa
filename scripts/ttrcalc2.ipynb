{
 "cells": [
  {
   "cell_type": "code",
   "execution_count": 1,
   "id": "b233a054",
   "metadata": {},
   "outputs": [],
   "source": [
    "import pandas as pd\n",
    "import matplotlib.pyplot as plt\n",
    "import numpy as np \n",
    "import random"
   ]
  },
  {
   "cell_type": "markdown",
   "id": "f0f25eed",
   "metadata": {},
   "source": [
    "# Time in Therapeutic Range - Rosendaal Method\n",
    "\n",
    "Time in therapeutic range is a commonly used mareker of quality control for I suppose any drugs but mainly anticoagulants. Literature mentions several approaches and debate around what is the best method to use.\n",
    "\n",
    "Commonly used methods are traditional approach : no of in-range blood tests divided by total no of blood tests. \n",
    "This method has flaws as time between blood tests are not treated.\n",
    "\n",
    "For a patient P, who receive INR blood tests in a certain time period with values as : \n",
    "\n",
    "time 1 , INR value 1\n",
    "\n",
    "time 2, INR value 2 \n",
    "\n",
    "time 3 , INR value 3 \n",
    "\n",
    "Traditional method for this patient P ,TTRtrad = no of in-range / 3 \n",
    "\n",
    "Traditional method is not robust to handle with situations such as below :- \n",
    "\n",
    "target INR 2-3\n",
    "\n",
    "day 1, INR 1.0\n",
    "\n",
    "day 2, INR 5.0\n",
    "\n",
    "day 3, INR 1.0 \n",
    "\n",
    "According to traditional method, this patient would have 0 time in therapeutic range as none of the recorded blood values are in-range, thus 0/3.\n",
    "\n",
    "Thus, Rosendaal(1993) has made an improvement on this traditional method by using a linter interpolation between two set of blood values.  Therefore,under Rosendaal, a straight line (lm) is plotted between time1,value1 and time2,value 2 (i.e., linear interpolation). Therefore, in the above scenario, patient real-world INR must move between 1.0 to 5.0 in between day 1 and day 2's tests. Although at time t1 with INR 1.0 is below the range, the patient must have time 't' where it is in range to achieve INR 5.0 on time t2. \n",
    "\n",
    "The days in monitored are two days : i.e., between interval begining on day 1 at blood draw with resultant INR 1.0 and interval end on day 3 at INR 1.0 again. \n",
    "\n",
    "Thus, according to Rosendaal method, TTRrosendaal would be = 0.5 days. \n",
    "\n",
    "(add graph to easily comprehend this).\n",
    "\n",
    "\n",
    "### Unfortunately, no easy code or package available in R or Python. \n",
    "\n",
    "\n",
    "Whilst https://rdrr.io/github/anticoagulation/warfarin/ this may suggest that there is a package. \n",
    "Review of his repo https://github.com/badgettrg did not yield any and neither does https://github.com/opencpu/opencpu\n",
    "\n"
   ]
  },
  {
   "cell_type": "markdown",
   "id": "17198ee7",
   "metadata": {},
   "source": [
    "## Requirements of the Function\n",
    "\n",
    "1. Given a desired range - e.g., INR value of 2.0 to 3.0. There are 3 possible outcomes for a particular INR value : below the range, in the range, above the range. \n",
    "\n",
    "Therefore, between two sets of INR value : 3 ^ 2 = 9 possible outcomes.\n",
    "\n",
    "2. There are 9 possible scenarios that the function should be able to handle.\n",
    "\n",
    "For interval 'i', there will be two values 'v1' and 'v2' at the begining and end of this interval.\n",
    "\n",
    "interval \"i\" / value at begining of interval \"v1\" / value at end of interval \"v2\" /\n",
    "\n",
    "3. In addition, this formual shoudl be able to handle missing values \"Na - 2.0 \" etc. \n",
    "\n"
   ]
  },
  {
   "cell_type": "code",
   "execution_count": 3,
   "id": "f51b5297",
   "metadata": {},
   "outputs": [
    {
     "data": {
      "text/plain": "   situation   v1   v2               comment\n0          1  1.0  0.9        lower to lower\n1          2  1.0  2.5     lower to in-range\n2          3  1.0  5.0       lower to higher\n3          4  2.5  0.9     in-range to lower\n4          5  2.5  2.5  in-range to in-range\n5          6  2.5  5.0    in-range to higher\n6          7  5.0  0.9       higher to lower\n7          8  5.0  2.5    higher to in-range\n8          9  5.0  5.0      higher to higher",
      "text/html": "<div>\n<style scoped>\n    .dataframe tbody tr th:only-of-type {\n        vertical-align: middle;\n    }\n\n    .dataframe tbody tr th {\n        vertical-align: top;\n    }\n\n    .dataframe thead th {\n        text-align: right;\n    }\n</style>\n<table border=\"1\" class=\"dataframe\">\n  <thead>\n    <tr style=\"text-align: right;\">\n      <th></th>\n      <th>situation</th>\n      <th>v1</th>\n      <th>v2</th>\n      <th>comment</th>\n    </tr>\n  </thead>\n  <tbody>\n    <tr>\n      <th>0</th>\n      <td>1</td>\n      <td>1.0</td>\n      <td>0.9</td>\n      <td>lower to lower</td>\n    </tr>\n    <tr>\n      <th>1</th>\n      <td>2</td>\n      <td>1.0</td>\n      <td>2.5</td>\n      <td>lower to in-range</td>\n    </tr>\n    <tr>\n      <th>2</th>\n      <td>3</td>\n      <td>1.0</td>\n      <td>5.0</td>\n      <td>lower to higher</td>\n    </tr>\n    <tr>\n      <th>3</th>\n      <td>4</td>\n      <td>2.5</td>\n      <td>0.9</td>\n      <td>in-range to lower</td>\n    </tr>\n    <tr>\n      <th>4</th>\n      <td>5</td>\n      <td>2.5</td>\n      <td>2.5</td>\n      <td>in-range to in-range</td>\n    </tr>\n    <tr>\n      <th>5</th>\n      <td>6</td>\n      <td>2.5</td>\n      <td>5.0</td>\n      <td>in-range to higher</td>\n    </tr>\n    <tr>\n      <th>6</th>\n      <td>7</td>\n      <td>5.0</td>\n      <td>0.9</td>\n      <td>higher to lower</td>\n    </tr>\n    <tr>\n      <th>7</th>\n      <td>8</td>\n      <td>5.0</td>\n      <td>2.5</td>\n      <td>higher to in-range</td>\n    </tr>\n    <tr>\n      <th>8</th>\n      <td>9</td>\n      <td>5.0</td>\n      <td>5.0</td>\n      <td>higher to higher</td>\n    </tr>\n  </tbody>\n</table>\n</div>"
     },
     "execution_count": 3,
     "metadata": {},
     "output_type": "execute_result"
    }
   ],
   "source": [
    "data = {\n",
    "    \"situation\": [1,2,3,4,5,6,7,8,9],\n",
    "    \"v1\":[1,1,1,2.5,2.5,2.5,5,5,5],\n",
    "    \"v2\": [0.9,2.5,5,0.9,2.5,5,0.9,2.5,5],\n",
    "    \"comment\":[\"lower to lower\",\"lower to in-range\",\"lower to higher\",\"in-range to lower\",\"in-range to in-range\",\"in-range to higher\",\"higher to lower\",\"higher to in-range\",\"higher to higher\"]\n",
    "}\n",
    "\n",
    "testdf = pd.DataFrame(data)\n",
    "\n",
    "testdf\n",
    "# this dataframe describes above situations, where range is 2.0 - 3.0 "
   ]
  },
  {
   "cell_type": "markdown",
   "id": "5647b557",
   "metadata": {},
   "source": [
    "### Function Description\n",
    "\n",
    "Given the above desired requirements, I have built this function as inspired by {cite:p}`Razouki 2014`\n",
    "Razouki et al has released their calculation in the supplementary material as an excel spreadsheet. The spreadsheet is well worth reviewing to understand the conceptualisation in their approach. \n",
    "\n",
    "Given the constraints of excel formulation, Razouki's spreadsheet allows calculation for one patient in a data format mentioned above already, where time interval would be t2-t1 for first interval and blood values at each interval - v1 for beginning and v2 for end for first interval and so on. \n",
    "\n",
    "(t1,v1)\n",
    "(t2,v2) \n",
    "(t3,v3)\n",
    "\n",
    "The findings from this function are also cross-checked manually as well as with Razouki's spreadsheet.\n",
    "\n",
    "For manual checking, I recommend simple plotting of all those 9 possible scenarios and counting the time elapse between the ranges. \n",
    "\n",
    "Razouki's spreadsheet make use of logical multiplications (e.g., TRUE * TRUE = 1 ) to deal with missing data. In python, we are however able to use if,else flow statements and calculation for each specific scenario. \n",
    "\n",
    "https://pubmed.ncbi.nlm.nih.gov/25185245/\n",
    "\n",
    "In addition to Razouki who mainly interested in quantiative time in therapeutic range. I have generated 'low' and 'higher' to denote results for intervals who may be below or above range. This is to enable correlation between 'lower' times with 'thrombotic events' and 'higher times' with hemorrhagic events.\n"
   ]
  },
  {
   "cell_type": "code",
   "execution_count": 5,
   "id": "460df42c",
   "metadata": {},
   "outputs": [],
   "source": [
    "def ttrcalc(v1,v2,upper = 3.0001,lower = 1.999):\n",
    "    #formula for time in therapeutic range calculation using linear interpol\n",
    "    #variables upper and lower are target ranges.\n",
    "    #this calculator should be able to handle 9 possible scenarios\n",
    "    upper = upper\n",
    "    lower = lower\n",
    "    vdiff = abs(v2-v1)\n",
    "    #vdiff allows absolute difference between two values.\n",
    "    res = 0\n",
    "    #result object. \n",
    "    \n",
    "    if v1 < lower and v2 < lower:\n",
    "        #situation 1 where both vals are lower than range.\n",
    "        return \"low\"\n",
    "    \n",
    "    elif v1 < lower and lower < v2 < upper :\n",
    "        #situation 2 \n",
    "        res = (v2 - lower) / vdiff \n",
    "        return res \n",
    "    \n",
    "    elif v1 < lower and v2 > upper :\n",
    "        #situation 3 \n",
    "        res = (upper - lower) / vdiff\n",
    "        return res\n",
    "    \n",
    "    elif lower < v1 < upper and v2 < lower :\n",
    "        #situation 4 \n",
    "        res = (v1 - lower) / vdiff\n",
    "        return res \n",
    "    \n",
    "    elif lower<v1<upper and lower<v2<upper :\n",
    "        # situation 5 where both vals are in range.\n",
    "        return 1\n",
    "    \n",
    "    elif lower < v1 < upper and v2 > upper :\n",
    "        # situation 6 \n",
    "        res = (upper - v1) / vdiff\n",
    "        return res\n",
    "    \n",
    "    elif v1 > upper and v2 < lower :\n",
    "        #situation 7\n",
    "        res = (upper - lower) / vdiff \n",
    "        return res \n",
    "    \n",
    "    elif v1 > upper and lower < v2 < upper :\n",
    "        #situation 8\n",
    "        res = (upper - v2) / vdiff\n",
    "        return res\n",
    "    \n",
    "    elif v1 > upper and v2 > upper :\n",
    "        #situation 9 where both vals are higher than range.\n",
    "        return \" higher\"\n",
    "    "
   ]
  },
  {
   "cell_type": "markdown",
   "id": "55966ea5",
   "metadata": {},
   "source": [
    "# Test ttrcalc function\n",
    "\n",
    "Goals :\n",
    "- handle all possible scenarios 1 to 9 , \n",
    "- handle missing data\n",
    "- crosscheck pass manually"
   ]
  },
  {
   "cell_type": "code",
   "execution_count": 6,
   "id": "31750958",
   "metadata": {},
   "outputs": [
    {
     "data": {
      "text/plain": "   situation   v1   v2               comment     col_3\n0          1  1.0  0.9        lower to lower       low\n1          2  1.0  2.5     lower to in-range     0.334\n2          3  1.0  5.0       lower to higher  0.250275\n3          4  2.5  0.9     in-range to lower  0.313125\n4          5  2.5  2.5  in-range to in-range         1\n5          6  2.5  5.0    in-range to higher   0.20004\n6          7  5.0  0.9       higher to lower  0.244171\n7          8  5.0  2.5    higher to in-range   0.20004\n8          9  5.0  5.0      higher to higher    higher",
      "text/html": "<div>\n<style scoped>\n    .dataframe tbody tr th:only-of-type {\n        vertical-align: middle;\n    }\n\n    .dataframe tbody tr th {\n        vertical-align: top;\n    }\n\n    .dataframe thead th {\n        text-align: right;\n    }\n</style>\n<table border=\"1\" class=\"dataframe\">\n  <thead>\n    <tr style=\"text-align: right;\">\n      <th></th>\n      <th>situation</th>\n      <th>v1</th>\n      <th>v2</th>\n      <th>comment</th>\n      <th>col_3</th>\n    </tr>\n  </thead>\n  <tbody>\n    <tr>\n      <th>0</th>\n      <td>1</td>\n      <td>1.0</td>\n      <td>0.9</td>\n      <td>lower to lower</td>\n      <td>low</td>\n    </tr>\n    <tr>\n      <th>1</th>\n      <td>2</td>\n      <td>1.0</td>\n      <td>2.5</td>\n      <td>lower to in-range</td>\n      <td>0.334</td>\n    </tr>\n    <tr>\n      <th>2</th>\n      <td>3</td>\n      <td>1.0</td>\n      <td>5.0</td>\n      <td>lower to higher</td>\n      <td>0.250275</td>\n    </tr>\n    <tr>\n      <th>3</th>\n      <td>4</td>\n      <td>2.5</td>\n      <td>0.9</td>\n      <td>in-range to lower</td>\n      <td>0.313125</td>\n    </tr>\n    <tr>\n      <th>4</th>\n      <td>5</td>\n      <td>2.5</td>\n      <td>2.5</td>\n      <td>in-range to in-range</td>\n      <td>1</td>\n    </tr>\n    <tr>\n      <th>5</th>\n      <td>6</td>\n      <td>2.5</td>\n      <td>5.0</td>\n      <td>in-range to higher</td>\n      <td>0.20004</td>\n    </tr>\n    <tr>\n      <th>6</th>\n      <td>7</td>\n      <td>5.0</td>\n      <td>0.9</td>\n      <td>higher to lower</td>\n      <td>0.244171</td>\n    </tr>\n    <tr>\n      <th>7</th>\n      <td>8</td>\n      <td>5.0</td>\n      <td>2.5</td>\n      <td>higher to in-range</td>\n      <td>0.20004</td>\n    </tr>\n    <tr>\n      <th>8</th>\n      <td>9</td>\n      <td>5.0</td>\n      <td>5.0</td>\n      <td>higher to higher</td>\n      <td>higher</td>\n    </tr>\n  </tbody>\n</table>\n</div>"
     },
     "execution_count": 6,
     "metadata": {},
     "output_type": "execute_result"
    }
   ],
   "source": [
    "testdf['col_3'] = testdf.apply(lambda x: ttrcalc(x.v1, x.v2), axis=1)\n",
    "testdf"
   ]
  },
  {
   "cell_type": "code",
   "execution_count": 7,
   "id": "8f1a460a",
   "metadata": {},
   "outputs": [
    {
     "data": {
      "text/plain": "[3.94,\n 5.42,\n 3.06,\n 5.29,\n 1.95,\n 3.83,\n 5.36,\n 5.71,\n 0.68,\n 3.92,\n 1.3,\n 4.14,\n 4.66,\n 2.28,\n 2.13,\n 5.22,\n 2.69,\n 1.06,\n 0.82,\n 4.98]"
     },
     "execution_count": 7,
     "metadata": {},
     "output_type": "execute_result"
    }
   ],
   "source": [
    "#lets test is more comprehensively,\n",
    "#all the outputs of this function should be higher, lower or between 0 - 100%\n",
    "randlist = []\n",
    "\n",
    "for i in range(0,20):\n",
    "    x = np.random.uniform(0,6)\n",
    "    x = round(x,2)\n",
    "    randlist.append(x)\n",
    "\n",
    "randlist1 = randlist\n",
    "randlist"
   ]
  },
  {
   "cell_type": "code",
   "execution_count": 8,
   "id": "f8048dfd",
   "metadata": {
    "scrolled": true
   },
   "outputs": [
    {
     "data": {
      "text/plain": "      v1    v2    col_3\n0   3.94  3.94   higher\n1   5.42  5.42   higher\n2   3.06  3.06   higher\n3   5.29  5.29   higher\n4   1.95  1.95      low\n5   3.83  3.83   higher\n6   5.36  5.36   higher\n7   5.71  5.71   higher\n8   0.68  0.68      low\n9   3.92  3.92   higher\n10  1.30  1.30      low\n11  4.14  4.14   higher\n12  4.66  4.66   higher\n13  2.28  2.28        1\n14  2.13  2.13        1\n15  5.22  5.22   higher\n16  2.69  2.69        1\n17  1.06  1.06      low\n18  0.82  0.82      low\n19  4.98  4.98   higher",
      "text/html": "<div>\n<style scoped>\n    .dataframe tbody tr th:only-of-type {\n        vertical-align: middle;\n    }\n\n    .dataframe tbody tr th {\n        vertical-align: top;\n    }\n\n    .dataframe thead th {\n        text-align: right;\n    }\n</style>\n<table border=\"1\" class=\"dataframe\">\n  <thead>\n    <tr style=\"text-align: right;\">\n      <th></th>\n      <th>v1</th>\n      <th>v2</th>\n      <th>col_3</th>\n    </tr>\n  </thead>\n  <tbody>\n    <tr>\n      <th>0</th>\n      <td>3.94</td>\n      <td>3.94</td>\n      <td>higher</td>\n    </tr>\n    <tr>\n      <th>1</th>\n      <td>5.42</td>\n      <td>5.42</td>\n      <td>higher</td>\n    </tr>\n    <tr>\n      <th>2</th>\n      <td>3.06</td>\n      <td>3.06</td>\n      <td>higher</td>\n    </tr>\n    <tr>\n      <th>3</th>\n      <td>5.29</td>\n      <td>5.29</td>\n      <td>higher</td>\n    </tr>\n    <tr>\n      <th>4</th>\n      <td>1.95</td>\n      <td>1.95</td>\n      <td>low</td>\n    </tr>\n    <tr>\n      <th>5</th>\n      <td>3.83</td>\n      <td>3.83</td>\n      <td>higher</td>\n    </tr>\n    <tr>\n      <th>6</th>\n      <td>5.36</td>\n      <td>5.36</td>\n      <td>higher</td>\n    </tr>\n    <tr>\n      <th>7</th>\n      <td>5.71</td>\n      <td>5.71</td>\n      <td>higher</td>\n    </tr>\n    <tr>\n      <th>8</th>\n      <td>0.68</td>\n      <td>0.68</td>\n      <td>low</td>\n    </tr>\n    <tr>\n      <th>9</th>\n      <td>3.92</td>\n      <td>3.92</td>\n      <td>higher</td>\n    </tr>\n    <tr>\n      <th>10</th>\n      <td>1.30</td>\n      <td>1.30</td>\n      <td>low</td>\n    </tr>\n    <tr>\n      <th>11</th>\n      <td>4.14</td>\n      <td>4.14</td>\n      <td>higher</td>\n    </tr>\n    <tr>\n      <th>12</th>\n      <td>4.66</td>\n      <td>4.66</td>\n      <td>higher</td>\n    </tr>\n    <tr>\n      <th>13</th>\n      <td>2.28</td>\n      <td>2.28</td>\n      <td>1</td>\n    </tr>\n    <tr>\n      <th>14</th>\n      <td>2.13</td>\n      <td>2.13</td>\n      <td>1</td>\n    </tr>\n    <tr>\n      <th>15</th>\n      <td>5.22</td>\n      <td>5.22</td>\n      <td>higher</td>\n    </tr>\n    <tr>\n      <th>16</th>\n      <td>2.69</td>\n      <td>2.69</td>\n      <td>1</td>\n    </tr>\n    <tr>\n      <th>17</th>\n      <td>1.06</td>\n      <td>1.06</td>\n      <td>low</td>\n    </tr>\n    <tr>\n      <th>18</th>\n      <td>0.82</td>\n      <td>0.82</td>\n      <td>low</td>\n    </tr>\n    <tr>\n      <th>19</th>\n      <td>4.98</td>\n      <td>4.98</td>\n      <td>higher</td>\n    </tr>\n  </tbody>\n</table>\n</div>"
     },
     "execution_count": 8,
     "metadata": {},
     "output_type": "execute_result"
    }
   ],
   "source": [
    "d = { \"v1\" : randlist,\"v2\" :randlist1}\n",
    "#let's make a data frame that encomasses all these values \n",
    "df = pd.DataFrame(d)\n",
    "\n",
    "#let's apply by feeding a column of the dataframe into this function.\n",
    "# LHS : making a new column column 3. RHS = function call via apply using lambda x and defining lambda(x)\n",
    " #as ttrcalc function with variables name as col names. axis 1 apply row wise.\n",
    "df['col_3'] = df.apply(lambda x: ttrcalc(x.v1, x.v2), axis=1)\n",
    "\n",
    "df\n",
    "#showed code worked "
   ]
  },
  {
   "cell_type": "code",
   "execution_count": 9,
   "id": "7984fb66",
   "metadata": {},
   "outputs": [
    {
     "data": {
      "text/plain": "    v1   v2     col_3\n0  1.0  1.0       low\n1  1.0  2.5     0.334\n2  1.0  5.0  0.250275\n3  NaN  0.9      None\n4  2.5  2.5         1\n5  2.5  NaN      None\n6  5.0  2.0  0.333367\n7  5.0  5.0    higher\n8  5.0  7.0    higher",
      "text/html": "<div>\n<style scoped>\n    .dataframe tbody tr th:only-of-type {\n        vertical-align: middle;\n    }\n\n    .dataframe tbody tr th {\n        vertical-align: top;\n    }\n\n    .dataframe thead th {\n        text-align: right;\n    }\n</style>\n<table border=\"1\" class=\"dataframe\">\n  <thead>\n    <tr style=\"text-align: right;\">\n      <th></th>\n      <th>v1</th>\n      <th>v2</th>\n      <th>col_3</th>\n    </tr>\n  </thead>\n  <tbody>\n    <tr>\n      <th>0</th>\n      <td>1.0</td>\n      <td>1.0</td>\n      <td>low</td>\n    </tr>\n    <tr>\n      <th>1</th>\n      <td>1.0</td>\n      <td>2.5</td>\n      <td>0.334</td>\n    </tr>\n    <tr>\n      <th>2</th>\n      <td>1.0</td>\n      <td>5.0</td>\n      <td>0.250275</td>\n    </tr>\n    <tr>\n      <th>3</th>\n      <td>NaN</td>\n      <td>0.9</td>\n      <td>None</td>\n    </tr>\n    <tr>\n      <th>4</th>\n      <td>2.5</td>\n      <td>2.5</td>\n      <td>1</td>\n    </tr>\n    <tr>\n      <th>5</th>\n      <td>2.5</td>\n      <td>NaN</td>\n      <td>None</td>\n    </tr>\n    <tr>\n      <th>6</th>\n      <td>5.0</td>\n      <td>2.0</td>\n      <td>0.333367</td>\n    </tr>\n    <tr>\n      <th>7</th>\n      <td>5.0</td>\n      <td>5.0</td>\n      <td>higher</td>\n    </tr>\n    <tr>\n      <th>8</th>\n      <td>5.0</td>\n      <td>7.0</td>\n      <td>higher</td>\n    </tr>\n  </tbody>\n</table>\n</div>"
     },
     "execution_count": 9,
     "metadata": {},
     "output_type": "execute_result"
    }
   ],
   "source": [
    "d = {\"v1\" :[1 , 1, 1, np.nan, 2.5, 2.5, 5, 5, 5], \"v2\":[1, 2.5, 5.0, 0.9, 2.5, np.nan, 2.0,5,7] }\n",
    "#this is a scenario where pdf dataframe encompasses all possible combinations of scenarios. \n",
    "pdf = pd.DataFrame(d)\n",
    "\n",
    "pdf[\"col_3\"] = pdf.apply(lambda x: ttrcalc(x.v1,x.v2),axis = 1)\n",
    "\n",
    "pdf\n",
    "#this cross checked with original information. and can handle NaN's individually. "
   ]
  },
  {
   "cell_type": "code",
   "execution_count": 10,
   "id": "616b0b55",
   "metadata": {},
   "outputs": [
    {
     "name": "stdout",
     "output_type": "stream",
     "text": [
      "0.250275\n",
      "0.250275\n",
      "None\n",
      "None\n",
      "0.31312499999999993\n"
     ]
    }
   ],
   "source": [
    "#this function should work with na values in the middle too. \n",
    "\n",
    "print(ttrcalc(1,5))\n",
    "print(ttrcalc(5,1))\n",
    "print(ttrcalc(1,np.nan))\n",
    "print(ttrcalc(np.nan,2.5))\n",
    "print(ttrcalc(2.5,0.9))"
   ]
  },
  {
   "cell_type": "code",
   "execution_count": 11,
   "id": "034e5aa4",
   "metadata": {},
   "outputs": [
    {
     "data": {
      "text/plain": "    t    v\n0   1  1.1\n1   2  1.5\n2   3  2.0\n3   4  2.5\n4   5  3.0\n5   6  3.5\n6   7  5.0\n7   8  2.5\n8   9  4.0\n9  10  2.0",
      "text/html": "<div>\n<style scoped>\n    .dataframe tbody tr th:only-of-type {\n        vertical-align: middle;\n    }\n\n    .dataframe tbody tr th {\n        vertical-align: top;\n    }\n\n    .dataframe thead th {\n        text-align: right;\n    }\n</style>\n<table border=\"1\" class=\"dataframe\">\n  <thead>\n    <tr style=\"text-align: right;\">\n      <th></th>\n      <th>t</th>\n      <th>v</th>\n    </tr>\n  </thead>\n  <tbody>\n    <tr>\n      <th>0</th>\n      <td>1</td>\n      <td>1.1</td>\n    </tr>\n    <tr>\n      <th>1</th>\n      <td>2</td>\n      <td>1.5</td>\n    </tr>\n    <tr>\n      <th>2</th>\n      <td>3</td>\n      <td>2.0</td>\n    </tr>\n    <tr>\n      <th>3</th>\n      <td>4</td>\n      <td>2.5</td>\n    </tr>\n    <tr>\n      <th>4</th>\n      <td>5</td>\n      <td>3.0</td>\n    </tr>\n    <tr>\n      <th>5</th>\n      <td>6</td>\n      <td>3.5</td>\n    </tr>\n    <tr>\n      <th>6</th>\n      <td>7</td>\n      <td>5.0</td>\n    </tr>\n    <tr>\n      <th>7</th>\n      <td>8</td>\n      <td>2.5</td>\n    </tr>\n    <tr>\n      <th>8</th>\n      <td>9</td>\n      <td>4.0</td>\n    </tr>\n    <tr>\n      <th>9</th>\n      <td>10</td>\n      <td>2.0</td>\n    </tr>\n  </tbody>\n</table>\n</div>"
     },
     "execution_count": 11,
     "metadata": {},
     "output_type": "execute_result"
    }
   ],
   "source": [
    "#now let's see if t and v pairs - aka untidy format - engineered yield the same result. \n",
    "\n",
    "# traditionally information is presented in time,value pairs.\n",
    "#(t1,v1)\n",
    "#(t2,v2)\n",
    "#(t3,v3)\n",
    "#(tn,vn)\n",
    "\n",
    "#thus we need to reshape it into ->\n",
    "# i1 ,v1 , v2\n",
    "# i2 , v2 , v1\n",
    "# i3 , v3 , v2\n",
    "# i(n-1),vn, v(n-1)\n",
    "\n",
    "# in a dataframe format.\n",
    "\n",
    "fdt = {\n",
    "    \"t\" : [1,2,3,4,5,6,7,8,9,10],\n",
    "    \"v\" : [1.1,1.5,2,2.5,3,3.5,5,2.5,4,2.0],\n",
    "}\n",
    "\n",
    "fdg = pd.DataFrame(fdt)\n",
    "fdg\n",
    "\n"
   ]
  },
  {
   "cell_type": "markdown",
   "id": "c217f984",
   "metadata": {},
   "source": [
    "## Note on datashape.\n",
    "\n",
    "traditional tidy format would be one observation with one value\n",
    "thus t1,v1 etc..\n",
    "\n",
    "applying this function - ttrcalc() in this function is quite complex as involves calling previous row's value's. This is easily executed in excel but leads to messier code.\n",
    "\n",
    "The cleaner way is to reshape this data. Effectively, we are interested in time in thereapeutic range. Thus, we shall calculate intervals of elapsed time. so if t1,t2...tn. Then there would 'n-1' intervals.\n",
    "\n",
    "This intervals would have a column . Then each interval would have begining and end times v1 and v2 respectively in theier own seperate columns.\n",
    "\n",
    "This thus allow ease of passing ttrcalc function as well as applying time in range which is interval x percentage in range. \n",
    "\n",
    "Please see below re-shaping fdg to a desired format."
   ]
  },
  {
   "cell_type": "code",
   "execution_count": 12,
   "id": "03666ddc",
   "metadata": {},
   "outputs": [],
   "source": [
    "#re-shaping int the format we'd like \n",
    "fdg[\"t2\"] = fdg[\"t\"].shift(1)\n",
    "fdg[\"i\"] = fdg.apply(lambda x: x.t - x.t2, axis = 1)\n",
    "#calculating i for interval.\n",
    "fdg[\"v1\"] = fdg[\"v\"].shift(1)\n",
    "fdg[\"v2\"] = fdg[\"v\"]\n",
    "\n",
    "# sense check : interval i which is always n-1. \n",
    "# sensecheck : v1 is the begining of interval and v2 is end of interval.\n",
    "fdg[\"col_3\"] = fdg.apply(lambda x: ttrcalc(x.v1,x.v2),axis = 1)"
   ]
  },
  {
   "cell_type": "code",
   "execution_count": 13,
   "id": "498cd743",
   "metadata": {},
   "outputs": [
    {
     "data": {
      "text/plain": "    t    v   t2    i   v1   v2    col_3\n0   1  1.1  NaN  NaN  NaN  1.1     None\n1   2  1.5  1.0  1.0  1.1  1.5      low\n2   3  2.0  2.0  1.0  1.5  2.0    0.002\n3   4  2.5  3.0  1.0  2.0  2.5        1\n4   5  3.0  4.0  1.0  2.5  3.0        1\n5   6  3.5  5.0  1.0  3.0  3.5   0.0002\n6   7  5.0  6.0  1.0  3.5  5.0   higher\n7   8  2.5  7.0  1.0  5.0  2.5  0.20004\n8   9  4.0  8.0  1.0  2.5  4.0   0.3334\n9  10  2.0  9.0  1.0  4.0  2.0  0.50005",
      "text/html": "<div>\n<style scoped>\n    .dataframe tbody tr th:only-of-type {\n        vertical-align: middle;\n    }\n\n    .dataframe tbody tr th {\n        vertical-align: top;\n    }\n\n    .dataframe thead th {\n        text-align: right;\n    }\n</style>\n<table border=\"1\" class=\"dataframe\">\n  <thead>\n    <tr style=\"text-align: right;\">\n      <th></th>\n      <th>t</th>\n      <th>v</th>\n      <th>t2</th>\n      <th>i</th>\n      <th>v1</th>\n      <th>v2</th>\n      <th>col_3</th>\n    </tr>\n  </thead>\n  <tbody>\n    <tr>\n      <th>0</th>\n      <td>1</td>\n      <td>1.1</td>\n      <td>NaN</td>\n      <td>NaN</td>\n      <td>NaN</td>\n      <td>1.1</td>\n      <td>None</td>\n    </tr>\n    <tr>\n      <th>1</th>\n      <td>2</td>\n      <td>1.5</td>\n      <td>1.0</td>\n      <td>1.0</td>\n      <td>1.1</td>\n      <td>1.5</td>\n      <td>low</td>\n    </tr>\n    <tr>\n      <th>2</th>\n      <td>3</td>\n      <td>2.0</td>\n      <td>2.0</td>\n      <td>1.0</td>\n      <td>1.5</td>\n      <td>2.0</td>\n      <td>0.002</td>\n    </tr>\n    <tr>\n      <th>3</th>\n      <td>4</td>\n      <td>2.5</td>\n      <td>3.0</td>\n      <td>1.0</td>\n      <td>2.0</td>\n      <td>2.5</td>\n      <td>1</td>\n    </tr>\n    <tr>\n      <th>4</th>\n      <td>5</td>\n      <td>3.0</td>\n      <td>4.0</td>\n      <td>1.0</td>\n      <td>2.5</td>\n      <td>3.0</td>\n      <td>1</td>\n    </tr>\n    <tr>\n      <th>5</th>\n      <td>6</td>\n      <td>3.5</td>\n      <td>5.0</td>\n      <td>1.0</td>\n      <td>3.0</td>\n      <td>3.5</td>\n      <td>0.0002</td>\n    </tr>\n    <tr>\n      <th>6</th>\n      <td>7</td>\n      <td>5.0</td>\n      <td>6.0</td>\n      <td>1.0</td>\n      <td>3.5</td>\n      <td>5.0</td>\n      <td>higher</td>\n    </tr>\n    <tr>\n      <th>7</th>\n      <td>8</td>\n      <td>2.5</td>\n      <td>7.0</td>\n      <td>1.0</td>\n      <td>5.0</td>\n      <td>2.5</td>\n      <td>0.20004</td>\n    </tr>\n    <tr>\n      <th>8</th>\n      <td>9</td>\n      <td>4.0</td>\n      <td>8.0</td>\n      <td>1.0</td>\n      <td>2.5</td>\n      <td>4.0</td>\n      <td>0.3334</td>\n    </tr>\n    <tr>\n      <th>9</th>\n      <td>10</td>\n      <td>2.0</td>\n      <td>9.0</td>\n      <td>1.0</td>\n      <td>4.0</td>\n      <td>2.0</td>\n      <td>0.50005</td>\n    </tr>\n  </tbody>\n</table>\n</div>"
     },
     "execution_count": 13,
     "metadata": {},
     "output_type": "execute_result"
    }
   ],
   "source": [
    "fdg\n",
    "#this cross checked with the manual checks."
   ]
  },
  {
   "cell_type": "markdown",
   "id": "724ba9a6",
   "metadata": {
    "pycharm": {
     "name": "#%% md\n"
    }
   },
   "source": [
    "## Now Let's check Group-wise application\n",
    "\n",
    "Data would be in the format t and v but with unique identifier u. We would like ttr to apply to 'u' groups.\n",
    "\n",
    "u1 / t / v / t2 / i / v1 /v2 / col_3\n",
    "...\n",
    "u2 / etc...\n"
   ]
  },
  {
   "cell_type": "code",
   "execution_count": 14,
   "outputs": [
    {
     "data": {
      "text/plain": "    t    v  g\n0   1  1.1  a\n1   2  1.5  a\n2   3  2.0  a\n3   4  2.5  a\n4   5  3.0  a\n5   6  3.5  b\n6   7  5.0  b\n7   8  2.5  b\n8   9  4.0  b\n9  10  2.0  b",
      "text/html": "<div>\n<style scoped>\n    .dataframe tbody tr th:only-of-type {\n        vertical-align: middle;\n    }\n\n    .dataframe tbody tr th {\n        vertical-align: top;\n    }\n\n    .dataframe thead th {\n        text-align: right;\n    }\n</style>\n<table border=\"1\" class=\"dataframe\">\n  <thead>\n    <tr style=\"text-align: right;\">\n      <th></th>\n      <th>t</th>\n      <th>v</th>\n      <th>g</th>\n    </tr>\n  </thead>\n  <tbody>\n    <tr>\n      <th>0</th>\n      <td>1</td>\n      <td>1.1</td>\n      <td>a</td>\n    </tr>\n    <tr>\n      <th>1</th>\n      <td>2</td>\n      <td>1.5</td>\n      <td>a</td>\n    </tr>\n    <tr>\n      <th>2</th>\n      <td>3</td>\n      <td>2.0</td>\n      <td>a</td>\n    </tr>\n    <tr>\n      <th>3</th>\n      <td>4</td>\n      <td>2.5</td>\n      <td>a</td>\n    </tr>\n    <tr>\n      <th>4</th>\n      <td>5</td>\n      <td>3.0</td>\n      <td>a</td>\n    </tr>\n    <tr>\n      <th>5</th>\n      <td>6</td>\n      <td>3.5</td>\n      <td>b</td>\n    </tr>\n    <tr>\n      <th>6</th>\n      <td>7</td>\n      <td>5.0</td>\n      <td>b</td>\n    </tr>\n    <tr>\n      <th>7</th>\n      <td>8</td>\n      <td>2.5</td>\n      <td>b</td>\n    </tr>\n    <tr>\n      <th>8</th>\n      <td>9</td>\n      <td>4.0</td>\n      <td>b</td>\n    </tr>\n    <tr>\n      <th>9</th>\n      <td>10</td>\n      <td>2.0</td>\n      <td>b</td>\n    </tr>\n  </tbody>\n</table>\n</div>"
     },
     "execution_count": 14,
     "metadata": {},
     "output_type": "execute_result"
    }
   ],
   "source": [
    "fd2 = {\n",
    "    \"t\" : [1,2,3,4,5,6,7,8,9,10],\n",
    "    \"v\" : [1.1,1.5,2,2.5,3,3.5,5,2.5,4,2.0],\n",
    "    \"g\" : [\"a\",\"a\",\"a\",\"a\",\"a\",\"b\",\"b\",\"b\",\"b\",\"b\"],\n",
    " }\n",
    "\n",
    "fg = pd.DataFrame(fd2)\n",
    "pd.factorize(fg.g)\n",
    "fg"
   ],
   "metadata": {
    "collapsed": false,
    "pycharm": {
     "name": "#%%\n"
    }
   }
  },
  {
   "cell_type": "code",
   "execution_count": 15,
   "outputs": [],
   "source": [
    "#reshaping into format I like.\n",
    "\n",
    "fg[\"t2\"] = fg[\"t\"].shift(1)\n",
    "fg[\"i\"] = fg.apply(lambda x: x.t - x.t2, axis = 1)\n",
    "#calculating i for interval.\n",
    "fg[\"v1\"] = fg[\"v\"].shift(1)\n",
    "fg[\"v2\"] = fg[\"v\"]"
   ],
   "metadata": {
    "collapsed": false,
    "pycharm": {
     "name": "#%%\n"
    }
   }
  },
  {
   "cell_type": "code",
   "execution_count": 16,
   "outputs": [
    {
     "data": {
      "text/plain": "    t    v  g   t2    i   v1   v2\n0   1  1.1  a  NaN  NaN  NaN  1.1\n1   2  1.5  a  1.0  1.0  1.1  1.5\n2   3  2.0  a  2.0  1.0  1.5  2.0\n3   4  2.5  a  3.0  1.0  2.0  2.5\n4   5  3.0  a  4.0  1.0  2.5  3.0\n5   6  3.5  b  5.0  1.0  3.0  3.5\n6   7  5.0  b  6.0  1.0  3.5  5.0\n7   8  2.5  b  7.0  1.0  5.0  2.5\n8   9  4.0  b  8.0  1.0  2.5  4.0\n9  10  2.0  b  9.0  1.0  4.0  2.0",
      "text/html": "<div>\n<style scoped>\n    .dataframe tbody tr th:only-of-type {\n        vertical-align: middle;\n    }\n\n    .dataframe tbody tr th {\n        vertical-align: top;\n    }\n\n    .dataframe thead th {\n        text-align: right;\n    }\n</style>\n<table border=\"1\" class=\"dataframe\">\n  <thead>\n    <tr style=\"text-align: right;\">\n      <th></th>\n      <th>t</th>\n      <th>v</th>\n      <th>g</th>\n      <th>t2</th>\n      <th>i</th>\n      <th>v1</th>\n      <th>v2</th>\n    </tr>\n  </thead>\n  <tbody>\n    <tr>\n      <th>0</th>\n      <td>1</td>\n      <td>1.1</td>\n      <td>a</td>\n      <td>NaN</td>\n      <td>NaN</td>\n      <td>NaN</td>\n      <td>1.1</td>\n    </tr>\n    <tr>\n      <th>1</th>\n      <td>2</td>\n      <td>1.5</td>\n      <td>a</td>\n      <td>1.0</td>\n      <td>1.0</td>\n      <td>1.1</td>\n      <td>1.5</td>\n    </tr>\n    <tr>\n      <th>2</th>\n      <td>3</td>\n      <td>2.0</td>\n      <td>a</td>\n      <td>2.0</td>\n      <td>1.0</td>\n      <td>1.5</td>\n      <td>2.0</td>\n    </tr>\n    <tr>\n      <th>3</th>\n      <td>4</td>\n      <td>2.5</td>\n      <td>a</td>\n      <td>3.0</td>\n      <td>1.0</td>\n      <td>2.0</td>\n      <td>2.5</td>\n    </tr>\n    <tr>\n      <th>4</th>\n      <td>5</td>\n      <td>3.0</td>\n      <td>a</td>\n      <td>4.0</td>\n      <td>1.0</td>\n      <td>2.5</td>\n      <td>3.0</td>\n    </tr>\n    <tr>\n      <th>5</th>\n      <td>6</td>\n      <td>3.5</td>\n      <td>b</td>\n      <td>5.0</td>\n      <td>1.0</td>\n      <td>3.0</td>\n      <td>3.5</td>\n    </tr>\n    <tr>\n      <th>6</th>\n      <td>7</td>\n      <td>5.0</td>\n      <td>b</td>\n      <td>6.0</td>\n      <td>1.0</td>\n      <td>3.5</td>\n      <td>5.0</td>\n    </tr>\n    <tr>\n      <th>7</th>\n      <td>8</td>\n      <td>2.5</td>\n      <td>b</td>\n      <td>7.0</td>\n      <td>1.0</td>\n      <td>5.0</td>\n      <td>2.5</td>\n    </tr>\n    <tr>\n      <th>8</th>\n      <td>9</td>\n      <td>4.0</td>\n      <td>b</td>\n      <td>8.0</td>\n      <td>1.0</td>\n      <td>2.5</td>\n      <td>4.0</td>\n    </tr>\n    <tr>\n      <th>9</th>\n      <td>10</td>\n      <td>2.0</td>\n      <td>b</td>\n      <td>9.0</td>\n      <td>1.0</td>\n      <td>4.0</td>\n      <td>2.0</td>\n    </tr>\n  </tbody>\n</table>\n</div>"
     },
     "execution_count": 16,
     "metadata": {},
     "output_type": "execute_result"
    }
   ],
   "source": [
    "fg\n",
    "\n",
    "# here it doesnt work as its not applied to group."
   ],
   "metadata": {
    "collapsed": false,
    "pycharm": {
     "name": "#%%\n"
    }
   }
  },
  {
   "cell_type": "code",
   "execution_count": 17,
   "outputs": [],
   "source": [
    "f2 = fg[[\"t\",\"v\",\"g\"]]"
   ],
   "metadata": {
    "collapsed": false,
    "pycharm": {
     "name": "#%%\n"
    }
   }
  },
  {
   "cell_type": "code",
   "execution_count": 18,
   "outputs": [
    {
     "name": "stderr",
     "output_type": "stream",
     "text": [
      "/Users/tunwinhla/opt/anaconda3/lib/python3.7/site-packages/ipykernel_launcher.py:3: SettingWithCopyWarning: \n",
      "A value is trying to be set on a copy of a slice from a DataFrame.\n",
      "Try using .loc[row_indexer,col_indexer] = value instead\n",
      "\n",
      "See the caveats in the documentation: https://pandas.pydata.org/pandas-docs/stable/user_guide/indexing.html#returning-a-view-versus-a-copy\n",
      "  This is separate from the ipykernel package so we can avoid doing imports until\n",
      "/Users/tunwinhla/opt/anaconda3/lib/python3.7/site-packages/ipykernel_launcher.py:4: SettingWithCopyWarning: \n",
      "A value is trying to be set on a copy of a slice from a DataFrame.\n",
      "Try using .loc[row_indexer,col_indexer] = value instead\n",
      "\n",
      "See the caveats in the documentation: https://pandas.pydata.org/pandas-docs/stable/user_guide/indexing.html#returning-a-view-versus-a-copy\n",
      "  after removing the cwd from sys.path.\n"
     ]
    }
   ],
   "source": [
    "#using pd shift feature\n",
    "\n",
    "f2[\"t2\"] = f2.groupby(\"g\")[\"t\"].shift(1)\n",
    "f2[\"v1\"] = f2.groupby(\"g\")[\"v\"].shift(1)"
   ],
   "metadata": {
    "collapsed": false,
    "pycharm": {
     "name": "#%%\n"
    }
   }
  },
  {
   "cell_type": "markdown",
   "source": [],
   "metadata": {
    "collapsed": false
   }
  },
  {
   "cell_type": "code",
   "execution_count": 19,
   "outputs": [
    {
     "name": "stderr",
     "output_type": "stream",
     "text": [
      "/Users/tunwinhla/opt/anaconda3/lib/python3.7/site-packages/ipykernel_launcher.py:1: SettingWithCopyWarning: \n",
      "A value is trying to be set on a copy of a slice from a DataFrame.\n",
      "Try using .loc[row_indexer,col_indexer] = value instead\n",
      "\n",
      "See the caveats in the documentation: https://pandas.pydata.org/pandas-docs/stable/user_guide/indexing.html#returning-a-view-versus-a-copy\n",
      "  \"\"\"Entry point for launching an IPython kernel.\n"
     ]
    },
    {
     "data": {
      "text/plain": "    t    v  g   t2   v1    i\n0   1  1.1  a  NaN  NaN  NaN\n1   2  1.5  a  1.0  1.1  1.0\n2   3  2.0  a  2.0  1.5  1.0\n3   4  2.5  a  3.0  2.0  1.0\n4   5  3.0  a  4.0  2.5  1.0\n5   6  3.5  b  NaN  NaN  NaN\n6   7  5.0  b  6.0  3.5  1.0\n7   8  2.5  b  7.0  5.0  1.0\n8   9  4.0  b  8.0  2.5  1.0\n9  10  2.0  b  9.0  4.0  1.0",
      "text/html": "<div>\n<style scoped>\n    .dataframe tbody tr th:only-of-type {\n        vertical-align: middle;\n    }\n\n    .dataframe tbody tr th {\n        vertical-align: top;\n    }\n\n    .dataframe thead th {\n        text-align: right;\n    }\n</style>\n<table border=\"1\" class=\"dataframe\">\n  <thead>\n    <tr style=\"text-align: right;\">\n      <th></th>\n      <th>t</th>\n      <th>v</th>\n      <th>g</th>\n      <th>t2</th>\n      <th>v1</th>\n      <th>i</th>\n    </tr>\n  </thead>\n  <tbody>\n    <tr>\n      <th>0</th>\n      <td>1</td>\n      <td>1.1</td>\n      <td>a</td>\n      <td>NaN</td>\n      <td>NaN</td>\n      <td>NaN</td>\n    </tr>\n    <tr>\n      <th>1</th>\n      <td>2</td>\n      <td>1.5</td>\n      <td>a</td>\n      <td>1.0</td>\n      <td>1.1</td>\n      <td>1.0</td>\n    </tr>\n    <tr>\n      <th>2</th>\n      <td>3</td>\n      <td>2.0</td>\n      <td>a</td>\n      <td>2.0</td>\n      <td>1.5</td>\n      <td>1.0</td>\n    </tr>\n    <tr>\n      <th>3</th>\n      <td>4</td>\n      <td>2.5</td>\n      <td>a</td>\n      <td>3.0</td>\n      <td>2.0</td>\n      <td>1.0</td>\n    </tr>\n    <tr>\n      <th>4</th>\n      <td>5</td>\n      <td>3.0</td>\n      <td>a</td>\n      <td>4.0</td>\n      <td>2.5</td>\n      <td>1.0</td>\n    </tr>\n    <tr>\n      <th>5</th>\n      <td>6</td>\n      <td>3.5</td>\n      <td>b</td>\n      <td>NaN</td>\n      <td>NaN</td>\n      <td>NaN</td>\n    </tr>\n    <tr>\n      <th>6</th>\n      <td>7</td>\n      <td>5.0</td>\n      <td>b</td>\n      <td>6.0</td>\n      <td>3.5</td>\n      <td>1.0</td>\n    </tr>\n    <tr>\n      <th>7</th>\n      <td>8</td>\n      <td>2.5</td>\n      <td>b</td>\n      <td>7.0</td>\n      <td>5.0</td>\n      <td>1.0</td>\n    </tr>\n    <tr>\n      <th>8</th>\n      <td>9</td>\n      <td>4.0</td>\n      <td>b</td>\n      <td>8.0</td>\n      <td>2.5</td>\n      <td>1.0</td>\n    </tr>\n    <tr>\n      <th>9</th>\n      <td>10</td>\n      <td>2.0</td>\n      <td>b</td>\n      <td>9.0</td>\n      <td>4.0</td>\n      <td>1.0</td>\n    </tr>\n  </tbody>\n</table>\n</div>"
     },
     "execution_count": 19,
     "metadata": {},
     "output_type": "execute_result"
    }
   ],
   "source": [
    "f2[\"i\"] = f2.apply(lambda x : x.t - x.t2, axis = 1)\n",
    "f2"
   ],
   "metadata": {
    "collapsed": false,
    "pycharm": {
     "name": "#%%\n"
    }
   }
  },
  {
   "cell_type": "code",
   "execution_count": 20,
   "outputs": [
    {
     "data": {
      "text/plain": "   g   t    v   t2    i   v1   v2\n0  a   1  1.1  NaN  NaN  NaN  1.1\n1  a   2  1.5  1.0  1.0  1.1  1.5\n2  a   3  2.0  2.0  1.0  1.5  2.0\n3  a   4  2.5  3.0  1.0  2.0  2.5\n4  a   5  3.0  4.0  1.0  2.5  3.0\n5  b   6  3.5  NaN  NaN  NaN  3.5\n6  b   7  5.0  6.0  1.0  3.5  5.0\n7  b   8  2.5  7.0  1.0  5.0  2.5\n8  b   9  4.0  8.0  1.0  2.5  4.0\n9  b  10  2.0  9.0  1.0  4.0  2.0",
      "text/html": "<div>\n<style scoped>\n    .dataframe tbody tr th:only-of-type {\n        vertical-align: middle;\n    }\n\n    .dataframe tbody tr th {\n        vertical-align: top;\n    }\n\n    .dataframe thead th {\n        text-align: right;\n    }\n</style>\n<table border=\"1\" class=\"dataframe\">\n  <thead>\n    <tr style=\"text-align: right;\">\n      <th></th>\n      <th>g</th>\n      <th>t</th>\n      <th>v</th>\n      <th>t2</th>\n      <th>i</th>\n      <th>v1</th>\n      <th>v2</th>\n    </tr>\n  </thead>\n  <tbody>\n    <tr>\n      <th>0</th>\n      <td>a</td>\n      <td>1</td>\n      <td>1.1</td>\n      <td>NaN</td>\n      <td>NaN</td>\n      <td>NaN</td>\n      <td>1.1</td>\n    </tr>\n    <tr>\n      <th>1</th>\n      <td>a</td>\n      <td>2</td>\n      <td>1.5</td>\n      <td>1.0</td>\n      <td>1.0</td>\n      <td>1.1</td>\n      <td>1.5</td>\n    </tr>\n    <tr>\n      <th>2</th>\n      <td>a</td>\n      <td>3</td>\n      <td>2.0</td>\n      <td>2.0</td>\n      <td>1.0</td>\n      <td>1.5</td>\n      <td>2.0</td>\n    </tr>\n    <tr>\n      <th>3</th>\n      <td>a</td>\n      <td>4</td>\n      <td>2.5</td>\n      <td>3.0</td>\n      <td>1.0</td>\n      <td>2.0</td>\n      <td>2.5</td>\n    </tr>\n    <tr>\n      <th>4</th>\n      <td>a</td>\n      <td>5</td>\n      <td>3.0</td>\n      <td>4.0</td>\n      <td>1.0</td>\n      <td>2.5</td>\n      <td>3.0</td>\n    </tr>\n    <tr>\n      <th>5</th>\n      <td>b</td>\n      <td>6</td>\n      <td>3.5</td>\n      <td>NaN</td>\n      <td>NaN</td>\n      <td>NaN</td>\n      <td>3.5</td>\n    </tr>\n    <tr>\n      <th>6</th>\n      <td>b</td>\n      <td>7</td>\n      <td>5.0</td>\n      <td>6.0</td>\n      <td>1.0</td>\n      <td>3.5</td>\n      <td>5.0</td>\n    </tr>\n    <tr>\n      <th>7</th>\n      <td>b</td>\n      <td>8</td>\n      <td>2.5</td>\n      <td>7.0</td>\n      <td>1.0</td>\n      <td>5.0</td>\n      <td>2.5</td>\n    </tr>\n    <tr>\n      <th>8</th>\n      <td>b</td>\n      <td>9</td>\n      <td>4.0</td>\n      <td>8.0</td>\n      <td>1.0</td>\n      <td>2.5</td>\n      <td>4.0</td>\n    </tr>\n    <tr>\n      <th>9</th>\n      <td>b</td>\n      <td>10</td>\n      <td>2.0</td>\n      <td>9.0</td>\n      <td>1.0</td>\n      <td>4.0</td>\n      <td>2.0</td>\n    </tr>\n  </tbody>\n</table>\n</div>"
     },
     "execution_count": 20,
     "metadata": {},
     "output_type": "execute_result"
    }
   ],
   "source": [
    "f2[\"v2\"] = f2[\"v\"]\n",
    "cols = f2.columns.tolist()\n",
    "cols\n",
    "cols= [\"g\",\"t\",\"v\",\"t2\",\"i\",\"v1\",\"v2\"]\n",
    "f2=f2[cols]\n",
    "f2"
   ],
   "metadata": {
    "collapsed": false,
    "pycharm": {
     "name": "#%%\n"
    }
   }
  },
  {
   "cell_type": "code",
   "execution_count": 21,
   "outputs": [
    {
     "name": "stderr",
     "output_type": "stream",
     "text": [
      "/Users/tunwinhla/opt/anaconda3/lib/python3.7/site-packages/ipykernel_launcher.py:3: SettingWithCopyWarning: \n",
      "A value is trying to be set on a copy of a slice from a DataFrame.\n",
      "Try using .loc[row_indexer,col_indexer] = value instead\n",
      "\n",
      "See the caveats in the documentation: https://pandas.pydata.org/pandas-docs/stable/user_guide/indexing.html#returning-a-view-versus-a-copy\n",
      "  This is separate from the ipykernel package so we can avoid doing imports until\n"
     ]
    }
   ],
   "source": [
    "# fdg[\"col_3\"] = fdg.apply(lambda x: ttrcalc(x.v1,x.v2),axis = 1)\n",
    "\n",
    "f2[\"col_3\"] = f2.apply(lambda x: ttrcalc(x.v1,x.v2),axis = 1)"
   ],
   "metadata": {
    "collapsed": false,
    "pycharm": {
     "name": "#%%\n"
    }
   }
  },
  {
   "cell_type": "code",
   "execution_count": 127,
   "outputs": [
    {
     "data": {
      "text/plain": "   g   t    v   t2    i   v1   v2    col_3\n0  a   1  1.1  NaN  NaN  NaN  1.1     None\n1  a   2  1.5  1.0  1.0  1.1  1.5      low\n2  a   3  2.0  2.0  1.0  1.5  2.0    0.002\n3  a   4  2.5  3.0  1.0  2.0  2.5        1\n4  a   5  3.0  4.0  1.0  2.5  3.0        1\n5  b   6  3.5  NaN  NaN  NaN  3.5     None\n6  b   7  5.0  6.0  1.0  3.5  5.0   higher\n7  b   8  2.5  7.0  1.0  5.0  2.5  0.20004\n8  b   9  4.0  8.0  1.0  2.5  4.0   0.3334\n9  b  10  2.0  9.0  1.0  4.0  2.0  0.50005",
      "text/html": "<div>\n<style scoped>\n    .dataframe tbody tr th:only-of-type {\n        vertical-align: middle;\n    }\n\n    .dataframe tbody tr th {\n        vertical-align: top;\n    }\n\n    .dataframe thead th {\n        text-align: right;\n    }\n</style>\n<table border=\"1\" class=\"dataframe\">\n  <thead>\n    <tr style=\"text-align: right;\">\n      <th></th>\n      <th>g</th>\n      <th>t</th>\n      <th>v</th>\n      <th>t2</th>\n      <th>i</th>\n      <th>v1</th>\n      <th>v2</th>\n      <th>col_3</th>\n    </tr>\n  </thead>\n  <tbody>\n    <tr>\n      <th>0</th>\n      <td>a</td>\n      <td>1</td>\n      <td>1.1</td>\n      <td>NaN</td>\n      <td>NaN</td>\n      <td>NaN</td>\n      <td>1.1</td>\n      <td>None</td>\n    </tr>\n    <tr>\n      <th>1</th>\n      <td>a</td>\n      <td>2</td>\n      <td>1.5</td>\n      <td>1.0</td>\n      <td>1.0</td>\n      <td>1.1</td>\n      <td>1.5</td>\n      <td>low</td>\n    </tr>\n    <tr>\n      <th>2</th>\n      <td>a</td>\n      <td>3</td>\n      <td>2.0</td>\n      <td>2.0</td>\n      <td>1.0</td>\n      <td>1.5</td>\n      <td>2.0</td>\n      <td>0.002</td>\n    </tr>\n    <tr>\n      <th>3</th>\n      <td>a</td>\n      <td>4</td>\n      <td>2.5</td>\n      <td>3.0</td>\n      <td>1.0</td>\n      <td>2.0</td>\n      <td>2.5</td>\n      <td>1</td>\n    </tr>\n    <tr>\n      <th>4</th>\n      <td>a</td>\n      <td>5</td>\n      <td>3.0</td>\n      <td>4.0</td>\n      <td>1.0</td>\n      <td>2.5</td>\n      <td>3.0</td>\n      <td>1</td>\n    </tr>\n    <tr>\n      <th>5</th>\n      <td>b</td>\n      <td>6</td>\n      <td>3.5</td>\n      <td>NaN</td>\n      <td>NaN</td>\n      <td>NaN</td>\n      <td>3.5</td>\n      <td>None</td>\n    </tr>\n    <tr>\n      <th>6</th>\n      <td>b</td>\n      <td>7</td>\n      <td>5.0</td>\n      <td>6.0</td>\n      <td>1.0</td>\n      <td>3.5</td>\n      <td>5.0</td>\n      <td>higher</td>\n    </tr>\n    <tr>\n      <th>7</th>\n      <td>b</td>\n      <td>8</td>\n      <td>2.5</td>\n      <td>7.0</td>\n      <td>1.0</td>\n      <td>5.0</td>\n      <td>2.5</td>\n      <td>0.20004</td>\n    </tr>\n    <tr>\n      <th>8</th>\n      <td>b</td>\n      <td>9</td>\n      <td>4.0</td>\n      <td>8.0</td>\n      <td>1.0</td>\n      <td>2.5</td>\n      <td>4.0</td>\n      <td>0.3334</td>\n    </tr>\n    <tr>\n      <th>9</th>\n      <td>b</td>\n      <td>10</td>\n      <td>2.0</td>\n      <td>9.0</td>\n      <td>1.0</td>\n      <td>4.0</td>\n      <td>2.0</td>\n      <td>0.50005</td>\n    </tr>\n  </tbody>\n</table>\n</div>"
     },
     "execution_count": 127,
     "metadata": {},
     "output_type": "execute_result"
    }
   ],
   "source": [
    "f2"
   ],
   "metadata": {
    "collapsed": false,
    "pycharm": {
     "name": "#%%\n"
    }
   }
  },
  {
   "cell_type": "markdown",
   "source": [
    "# Seems this now worked in any situation.\n"
   ],
   "metadata": {
    "collapsed": false,
    "pycharm": {
     "name": "#%% md\n"
    }
   }
  },
  {
   "cell_type": "code",
   "execution_count": 22,
   "outputs": [
    {
     "name": "stderr",
     "output_type": "stream",
     "text": [
      "/Users/tunwinhla/opt/anaconda3/lib/python3.7/site-packages/ipykernel_launcher.py:1: SettingWithCopyWarning: \n",
      "A value is trying to be set on a copy of a slice from a DataFrame.\n",
      "Try using .loc[row_indexer,col_indexer] = value instead\n",
      "\n",
      "See the caveats in the documentation: https://pandas.pydata.org/pandas-docs/stable/user_guide/indexing.html#returning-a-view-versus-a-copy\n",
      "  \"\"\"Entry point for launching an IPython kernel.\n"
     ]
    }
   ],
   "source": [
    "# here using a custom version of upper and lower values. it seems to work\n",
    "f2[\"col_4\"] = f2.apply(lambda x: ttrcalc(x.v1,x.v2,upper = 0.6, lower = 0.4),axis = 1)\n",
    "f2"
   ],
   "metadata": {
    "collapsed": false,
    "pycharm": {
     "name": "#%%\n"
    }
   }
  },
  {
   "cell_type": "code",
   "execution_count": null,
   "outputs": [],
   "source": [],
   "metadata": {
    "collapsed": false,
    "pycharm": {
     "name": "#%%\n"
    }
   }
  }
 ],
 "metadata": {
  "kernelspec": {
   "display_name": "Python 3 (ipykernel)",
   "language": "python",
   "name": "python3"
  },
  "language_info": {
   "codemirror_mode": {
    "name": "ipython",
    "version": 3
   },
   "file_extension": ".py",
   "mimetype": "text/x-python",
   "name": "python",
   "nbconvert_exporter": "python",
   "pygments_lexer": "ipython3",
   "version": "3.10.2"
  }
 },
 "nbformat": 4,
 "nbformat_minor": 5
}